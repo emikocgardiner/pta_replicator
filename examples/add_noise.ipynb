{
 "cells": [
  {
   "cell_type": "code",
   "execution_count": null,
   "metadata": {},
   "outputs": [],
   "source": [
    "from pta_replicator.white_noise import add_measurement_noise\n",
    "from pta_replicator.white_noise import add_jitter\n",
    "from pta_replicator.red_noise import add_red_noise, add_gwb\n",
    "\n",
    "from pta_replicator.simulate import load_pulsar, load_from_directories\n",
    "from pta_replicator.simulate import make_ideal\n",
    "import pint\n",
    "import sys\n",
    "import json\n",
    "import numpy as np\n",
    "\n",
    "import matplotlib.pyplot as plt\n",
    "\n",
    "pint.logging.setup(sink=sys.stderr, level=\"WARNING\", usecolors=True)\n",
    "\n",
    "%load_ext autoreload\n",
    "%autoreload 2"
   ]
  },
  {
   "cell_type": "markdown",
   "metadata": {},
   "source": [
    "### First load pulsars either one at a time or from a directory of `par` and `tim` files"
   ]
  },
  {
   "cell_type": "code",
   "execution_count": null,
   "metadata": {},
   "outputs": [],
   "source": [
    "# One at a time\n",
    "parfile = '../test_partim/par/B1855+09.par'\n",
    "timfile = '../test_partim/tim/B1855+09.tim'\n",
    "\n",
    "psr = load_pulsar(parfile, timfile)"
   ]
  },
  {
   "cell_type": "code",
   "execution_count": null,
   "metadata": {},
   "outputs": [],
   "source": [
    "# From a directory\n",
    "pardir = '../test_partim/par'\n",
    "timdir = '../test_partim/tim'\n",
    "\n",
    "psrs = load_from_directories(pardir, timdir, num_psrs=2)  # Load 2 pulsars"
   ]
  },
  {
   "cell_type": "markdown",
   "metadata": {},
   "source": [
    "### Load a noise dictionary with median values for the NANOGrav 15 year dataset and parse it"
   ]
  },
  {
   "cell_type": "code",
   "execution_count": null,
   "metadata": {},
   "outputs": [],
   "source": [
    "with open('../noise_dicts/ng15_dict.json', 'r') as fp:\n",
    "    noise_params = json.load(fp)\n",
    "# change number strings to floats:\n",
    "for value in noise_params.values():\n",
    "    value = float(value)"
   ]
  },
  {
   "cell_type": "code",
   "execution_count": null,
   "metadata": {},
   "outputs": [],
   "source": [
    "psrlist = [psr.name for psr in psrs]\n",
    "noise_dict = {}\n",
    "for p in psrlist:\n",
    "    noise_dict[p] = {}\n",
    "    noise_dict[p]['log10_equads'] = []\n",
    "    noise_dict[p]['efacs'] = []\n",
    "    noise_dict[p]['log10_ecorrs'] = []\n",
    "    for ky in list(noise_params.keys()):\n",
    "        if p in ky:\n",
    "            if 'equad' in ky:\n",
    "                noise_dict[p]['log10_equads'].append([ky.replace(p + '_' , '').replace('_log10_t2equad', ''), noise_params[ky]])\n",
    "            if 'efac' in ky:\n",
    "                noise_dict[p]['efacs'].append([ky.replace(p + '_' , '').replace('_efac', ''), noise_params[ky]])\n",
    "            if 'ecorr' in ky:\n",
    "                noise_dict[p]['log10_ecorrs'].append([ky.replace(p + '_' , '').replace('_log10_ecorr', ''), noise_params[ky]])\n",
    "            if 'gamma' in ky:\n",
    "                noise_dict[p]['rn_gamma'] = noise_params[ky]\n",
    "            if 'log10_A' in ky:\n",
    "                noise_dict[p]['rn_log10_amp'] = noise_params[ky]\n",
    "                \n",
    "    noise_dict[p]['log10_equads'] = np.array(noise_dict[p]['log10_equads'])\n",
    "    noise_dict[p]['efacs'] = np.array(noise_dict[p]['efacs'])\n",
    "    noise_dict[p]['log10_ecorrs'] = np.array(noise_dict[p]['log10_ecorrs'])"
   ]
  },
  {
   "cell_type": "markdown",
   "metadata": {},
   "source": [
    "### Add noise signals to the pulsars"
   ]
  },
  {
   "cell_type": "code",
   "execution_count": null,
   "metadata": {},
   "outputs": [],
   "source": [
    "## By using seeds we can  reproduce the dataset if need be. \n",
    "seed_efac_equad = 10660\n",
    "seed_jitter = 17763\n",
    "seed_red = 19870\n",
    "seed_gwb = 16672"
   ]
  },
  {
   "cell_type": "code",
   "execution_count": null,
   "metadata": {},
   "outputs": [],
   "source": [
    "for ii, psr in enumerate(psrs):\n",
    "\n",
    "    ## make ideal\n",
    "    make_ideal(psr)\n",
    "\n",
    "    ## add efacs\n",
    "    ## if you use flags, the flags and efac and equad values all need to have the same number of elements\n",
    "    add_measurement_noise(psr, efac = noise_dict[psr.name]['efacs'][:,1].astype(float),\n",
    "                          log10_equad = noise_dict[psr.name]['log10_equads'][:,1].astype(float), \n",
    "                          flagid = 'f', flags = noise_dict[psr.name]['efacs'][:,0], \n",
    "                          seed = seed_efac_equad + ii)\n",
    "\n",
    "    ## add jitter\n",
    "    add_jitter(psr, log10_ecorr = noise_dict[psr.name]['log10_ecorrs'][:,1].astype(float), \n",
    "                flagid='f', flags = noise_dict[psr.name]['log10_ecorrs'][:,0], \n",
    "                coarsegrain = 1.0/86400.0, seed = seed_jitter + ii)\n",
    "\n",
    "    ## add red noise\n",
    "    add_red_noise(psr,\n",
    "                  log10_amplitude = noise_dict[psr.name]['rn_log10_amp'],\n",
    "                  spectral_index = noise_dict[psr.name]['rn_gamma'],\n",
    "                  components = 30, seed = seed_red + ii)\n",
    "\n",
    "    print(ii, psr.name)"
   ]
  },
  {
   "cell_type": "markdown",
   "metadata": {},
   "source": [
    "### Finally, inject a GWB"
   ]
  },
  {
   "cell_type": "code",
   "execution_count": null,
   "metadata": {},
   "outputs": [],
   "source": [
    "add_gwb(psrs, log10_amplitude = -15, spectral_index = 13./3., seed = seed_gwb)"
   ]
  },
  {
   "cell_type": "markdown",
   "metadata": {},
   "source": [
    "### Check the signals that we've injected"
   ]
  },
  {
   "cell_type": "code",
   "execution_count": null,
   "metadata": {},
   "outputs": [],
   "source": [
    "for psr in psrs:\n",
    "    print(psr.added_signals)"
   ]
  },
  {
   "cell_type": "code",
   "execution_count": null,
   "metadata": {},
   "outputs": [],
   "source": [
    "for psr in psrs:\n",
    "    print(psr.name)\n",
    "    plt.errorbar(\n",
    "        psr.toas.get_mjds(),\n",
    "        psr.residuals.time_resids.to_value(\"us\"),\n",
    "        psr.residuals.get_data_error().to_value(\"us\"),\n",
    "        marker=\"+\",\n",
    "        ls=\"\",\n",
    "    )\n",
    "    plt.xlabel(\"MJD\")\n",
    "    plt.ylabel(\"Residuals (us)\")\n",
    "    plt.show()\n",
    "    plt.clf()"
   ]
  },
  {
   "cell_type": "code",
   "execution_count": null,
   "metadata": {},
   "outputs": [],
   "source": []
  }
 ],
 "metadata": {
  "kernelspec": {
   "display_name": "rosettaprise",
   "language": "python",
   "name": "python3"
  },
  "language_info": {
   "codemirror_mode": {
    "name": "ipython",
    "version": 3
   },
   "file_extension": ".py",
   "mimetype": "text/x-python",
   "name": "python",
   "nbconvert_exporter": "python",
   "pygments_lexer": "ipython3",
   "version": "3.10.12"
  }
 },
 "nbformat": 4,
 "nbformat_minor": 2
}
